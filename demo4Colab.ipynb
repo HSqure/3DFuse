{
  "cells": [
    {
      "cell_type": "markdown",
      "metadata": {
        "id": "Zxv9YQXcZMIR"
      },
      "source": [
        "#1. Environment Config\n",
        "##1.1 conda installation"
      ]
    },
    {
      "cell_type": "code",
      "execution_count": 2,
      "metadata": {
        "colab": {
          "base_uri": "https://localhost:8080/"
        },
        "id": "8vqSZqWYZC2Z",
        "outputId": "15770304-bf38-45cc-ac60-22773cae0883"
      },
      "outputs": [
        {
          "output_type": "stream",
          "name": "stdout",
          "text": [
            "⏬ Downloading https://github.com/conda-forge/miniforge/releases/download/23.1.0-1/Mambaforge-23.1.0-1-Linux-x86_64.sh...\n",
            "📦 Installing...\n",
            "📌 Adjusting configuration...\n",
            "🩹 Patching environment...\n",
            "⏲ Done in 0:00:10\n",
            "🔁 Restarting kernel...\n"
          ]
        }
      ],
      "source": [
        "!pip install -q condacolab\n",
        "import condacolab\n",
        "condacolab.install()"
      ]
    },
    {
      "cell_type": "markdown",
      "metadata": {
        "id": "En2llOhNZgtR"
      },
      "source": [
        "##1.2 3DFuse depends"
      ]
    },
    {
      "cell_type": "code",
      "execution_count": 3,
      "metadata": {
        "colab": {
          "base_uri": "https://localhost:8080/"
        },
        "id": "EaFg2TI_ZyGf",
        "outputId": "c01819c5-ca5b-41c6-b2ac-c9627b95d6ce"
      },
      "outputs": [
        {
          "output_type": "stream",
          "name": "stdout",
          "text": [
            "/content\n",
            "Cloning into '3DFuse'...\n",
            "remote: Enumerating objects: 286, done.\u001b[K\n",
            "remote: Counting objects: 100% (50/50), done.\u001b[K\n",
            "remote: Compressing objects: 100% (27/27), done.\u001b[K\n",
            "remote: Total 286 (delta 30), reused 23 (delta 23), pack-reused 236\u001b[K\n",
            "Receiving objects: 100% (286/286), 181.69 MiB | 32.63 MiB/s, done.\n",
            "Resolving deltas: 100% (72/72), done.\n",
            "/content/3DFuse\n",
            "Collecting package metadata (current_repodata.json): - \b\b\\ \b\b| \b\b/ \b\b- \b\b\\ \b\b| \b\b/ \b\b- \b\b\\ \b\b| \b\b/ \b\b- \b\b\\ \b\b| \b\b/ \b\b- \b\b\\ \b\b| \b\b/ \b\b- \b\b\\ \b\b| \b\b/ \b\b- \b\b\\ \b\b| \b\b/ \b\b- \b\b\\ \b\b| \b\b/ \b\b- \b\b\\ \b\b| \b\b/ \b\b- \b\b\\ \b\b| \b\b/ \b\b- \b\b\\ \b\b| \b\b/ \b\b- \b\b\\ \b\b| \b\b/ \b\b- \b\b\\ \b\b| \b\b/ \b\b- \b\b\\ \b\b| \b\b/ \b\b- \b\b\\ \b\b| \b\b/ \b\b- \b\b\\ \b\b| \b\b/ \b\b- \b\b\\ \b\b| \b\b/ \b\b- \b\b\\ \b\b| \b\b/ \b\b- \b\b\\ \b\b| \b\b/ \b\b- \b\b\\ \b\b| \b\b/ \b\b- \b\b\\ \b\b| \b\b/ \b\b- \b\b\\ \b\b| \b\b/ \b\b- \b\b\\ \b\b| \b\b/ \b\b- \b\b\\ \b\b| \b\b/ \b\b- \b\b\\ \b\b| \b\b/ \b\b- \b\b\\ \b\b| \b\b/ \b\b- \b\b\\ \b\b| \b\b/ \b\b- \b\b\\ \b\b| \b\b/ \b\b- \b\b\\ \b\b| \b\b/ \b\b- \b\b\\ \b\b| \b\b/ \b\b- \b\b\\ \b\b| \b\b/ \b\b- \b\b\\ \b\b| \b\b/ \b\b- \b\b\\ \b\b| \b\b/ \b\b- \b\b\\ \b\b| \b\b/ \b\b- \b\b\\ \b\b| \b\b/ \b\b- \b\bdone\n",
            "Solving environment: | \b\b/ \b\b- \b\bdone\n",
            "\n",
            "\n",
            "==> WARNING: A newer version of conda exists. <==\n",
            "  current version: 23.1.0\n",
            "  latest version: 23.3.1\n",
            "\n",
            "Please update conda by running\n",
            "\n",
            "    $ conda update -n base -c conda-forge conda\n",
            "\n",
            "Or to minimize the number of packages updated during conda update use\n",
            "\n",
            "     conda install conda=23.3.1\n",
            "\n",
            "\n",
            "\n",
            "## Package Plan ##\n",
            "\n",
            "  environment location: /usr/local/envs/3DFuse\n",
            "\n",
            "  added / updated specs:\n",
            "    - python=3.8\n",
            "\n",
            "\n",
            "The following packages will be downloaded:\n",
            "\n",
            "    package                    |            build\n",
            "    ---------------------------|-----------------\n",
            "    ca-certificates-2023.5.7   |       hbcca054_0         145 KB  conda-forge\n",
            "    libsqlite-3.41.2           |       h2797004_1         800 KB  conda-forge\n",
            "    openssl-3.1.0              |       hd590300_3         2.5 MB  conda-forge\n",
            "    pip-23.1.2                 |     pyhd8ed1ab_0         1.3 MB  conda-forge\n",
            "    python-3.8.16              |he550d4f_1_cpython        21.8 MB  conda-forge\n",
            "    setuptools-67.7.2          |     pyhd8ed1ab_0         569 KB  conda-forge\n",
            "    ------------------------------------------------------------\n",
            "                                           Total:        27.1 MB\n",
            "\n",
            "The following NEW packages will be INSTALLED:\n",
            "\n",
            "  _libgcc_mutex      conda-forge/linux-64::_libgcc_mutex-0.1-conda_forge \n",
            "  _openmp_mutex      conda-forge/linux-64::_openmp_mutex-4.5-2_gnu \n",
            "  bzip2              conda-forge/linux-64::bzip2-1.0.8-h7f98852_4 \n",
            "  ca-certificates    conda-forge/linux-64::ca-certificates-2023.5.7-hbcca054_0 \n",
            "  ld_impl_linux-64   conda-forge/linux-64::ld_impl_linux-64-2.40-h41732ed_0 \n",
            "  libffi             conda-forge/linux-64::libffi-3.4.2-h7f98852_5 \n",
            "  libgcc-ng          conda-forge/linux-64::libgcc-ng-12.2.0-h65d4601_19 \n",
            "  libgomp            conda-forge/linux-64::libgomp-12.2.0-h65d4601_19 \n",
            "  libnsl             conda-forge/linux-64::libnsl-2.0.0-h7f98852_0 \n",
            "  libsqlite          conda-forge/linux-64::libsqlite-3.41.2-h2797004_1 \n",
            "  libuuid            conda-forge/linux-64::libuuid-2.38.1-h0b41bf4_0 \n",
            "  libzlib            conda-forge/linux-64::libzlib-1.2.13-h166bdaf_4 \n",
            "  ncurses            conda-forge/linux-64::ncurses-6.3-h27087fc_1 \n",
            "  openssl            conda-forge/linux-64::openssl-3.1.0-hd590300_3 \n",
            "  pip                conda-forge/noarch::pip-23.1.2-pyhd8ed1ab_0 \n",
            "  python             conda-forge/linux-64::python-3.8.16-he550d4f_1_cpython \n",
            "  readline           conda-forge/linux-64::readline-8.2-h8228510_1 \n",
            "  setuptools         conda-forge/noarch::setuptools-67.7.2-pyhd8ed1ab_0 \n",
            "  tk                 conda-forge/linux-64::tk-8.6.12-h27826a3_0 \n",
            "  wheel              conda-forge/noarch::wheel-0.40.0-pyhd8ed1ab_0 \n",
            "  xz                 conda-forge/linux-64::xz-5.2.6-h166bdaf_0 \n",
            "\n",
            "\n",
            "\n",
            "Downloading and Extracting Packages\n",
            "ca-certificates-2023 | 145 KB    | :   0% 0/1 [00:00<?, ?it/s]\n",
            "setuptools-67.7.2    | 569 KB    | :   0% 0/1 [00:00<?, ?it/s]\u001b[A\n",
            "\n",
            "openssl-3.1.0        | 2.5 MB    | :   0% 0/1 [00:00<?, ?it/s]\u001b[A\u001b[A\n",
            "\n",
            "\n",
            "python-3.8.16        | 21.8 MB   | :   0% 0/1 [00:00<?, ?it/s]\u001b[A\u001b[A\u001b[A\n",
            "\n",
            "\n",
            "\n",
            "pip-23.1.2           | 1.3 MB    | :   0% 0/1 [00:00<?, ?it/s]\u001b[A\u001b[A\u001b[A\u001b[A\n",
            "\n",
            "\n",
            "\n",
            "\n",
            "libsqlite-3.41.2     | 800 KB    | :   0% 0/1 [00:00<?, ?it/s]\u001b[A\u001b[A\u001b[A\u001b[A\u001b[A\n",
            "\n",
            "ca-certificates-2023 | 145 KB    | :  11% 0.1104340792666487/1 [00:00<00:00,  1.09s/it]\n",
            "setuptools-67.7.2    | 569 KB    | :   3% 0.02811680555746235/1 [00:00<00:04,  4.44s/it]\u001b[A\n",
            "\n",
            "\n",
            "python-3.8.16        | 21.8 MB   | :   0% 0.0007174646278421556/1 [00:00<03:00, 180.29s/it]\u001b[A\u001b[A\u001b[A\n",
            "\n",
            "\n",
            "\n",
            "pip-23.1.2           | 1.3 MB    | :   1% 0.01197972571809623/1 [00:00<00:11, 11.47s/it]\u001b[A\u001b[A\u001b[A\u001b[A\n",
            "\n",
            "\n",
            "\n",
            "\n",
            "ca-certificates-2023 | 145 KB    | : 100% 1.0/1 [00:00<00:00,  1.09s/it]               \n",
            "\n",
            "openssl-3.1.0        | 2.5 MB    | :  45% 0.44998406662595847/1 [00:00<00:00,  2.46it/s] \u001b[A\u001b[A\n",
            "\n",
            "\n",
            "python-3.8.16        | 21.8 MB   | :   6% 0.06313688725010969/1 [00:00<00:02,  3.03s/it]   \u001b[A\u001b[A\u001b[A\n",
            "\n",
            "\n",
            "\n",
            "\n",
            "libsqlite-3.41.2     | 800 KB    | : 100% 1.0/1 [00:00<00:00,  4.36it/s]                \u001b[A\u001b[A\u001b[A\u001b[A\u001b[A\n",
            "\n",
            "\n",
            "\n",
            "\n",
            "libsqlite-3.41.2     | 800 KB    | : 100% 1.0/1 [00:00<00:00,  4.36it/s]\u001b[A\u001b[A\u001b[A\u001b[A\u001b[A\n",
            "\n",
            "\n",
            "python-3.8.16        | 21.8 MB   | :  23% 0.2274362870259633/1 [00:00<00:00,  1.12s/it] \u001b[A\u001b[A\u001b[A\n",
            "\n",
            "\n",
            "python-3.8.16        | 21.8 MB   | :  40% 0.4024976562194492/1 [00:00<00:00,  1.22it/s]\u001b[A\u001b[A\u001b[A\n",
            "\n",
            "\n",
            "python-3.8.16        | 21.8 MB   | :  57% 0.5703843791345137/1 [00:00<00:00,  1.38it/s]\u001b[A\u001b[A\u001b[A\n",
            "setuptools-67.7.2    | 569 KB    | : 100% 1.0/1 [00:00<00:00,  1.93it/s]                \u001b[A\n",
            "setuptools-67.7.2    | 569 KB    | : 100% 1.0/1 [00:00<00:00,  1.93it/s]\u001b[A\n",
            "\n",
            "\n",
            "python-3.8.16        | 21.8 MB   | :  73% 0.7339663142825251/1 [00:00<00:00,  1.46it/s]\u001b[A\u001b[A\u001b[A\n",
            "\n",
            "\n",
            "python-3.8.16        | 21.8 MB   | :  93% 0.9327040161948021/1 [00:00<00:00,  1.63it/s]\u001b[A\u001b[A\u001b[A\n",
            "\n",
            "openssl-3.1.0        | 2.5 MB    | : 100% 1.0/1 [00:00<00:00,  1.15it/s]                \u001b[A\u001b[A\n",
            "\n",
            "openssl-3.1.0        | 2.5 MB    | : 100% 1.0/1 [00:00<00:00,  1.15it/s]\u001b[A\u001b[A\n",
            "\n",
            "\n",
            "\n",
            "pip-23.1.2           | 1.3 MB    | : 100% 1.0/1 [00:00<00:00,  1.15it/s]                \u001b[A\u001b[A\u001b[A\u001b[A\n",
            "\n",
            "\n",
            "\n",
            "pip-23.1.2           | 1.3 MB    | : 100% 1.0/1 [00:00<00:00,  1.15it/s]\u001b[A\u001b[A\u001b[A\u001b[A\n",
            "\n",
            "\n",
            "                                                                        \n",
            "                                                                        \u001b[A\n",
            "\n",
            "                                                                        \u001b[A\u001b[A\n",
            "\n",
            "\n",
            "                                                                        \u001b[A\u001b[A\u001b[A\n",
            "\n",
            "\n",
            "\n",
            "                                                                        \u001b[A\u001b[A\u001b[A\u001b[A\n",
            "\n",
            "\n",
            "\n",
            "\n",
            "                                                                        \u001b[A\u001b[A\u001b[A\u001b[A\u001b[A\n",
            "Preparing transaction: | \b\b/ \b\bdone\n",
            "Verifying transaction: \\ \b\b| \b\b/ \b\b- \b\b\\ \b\b| \b\b/ \b\b- \b\b\\ \b\b| \b\b/ \b\bdone\n",
            "Executing transaction: \\ \b\b| \b\b/ \b\b- \b\b\\ \b\b| \b\b/ \b\b- \b\b\\ \b\b| \b\b/ \b\b- \b\b\\ \b\b| \b\b/ \b\b- \b\b\\ \b\b| \b\b/ \b\b- \b\b\\ \b\b| \b\b/ \b\b- \b\b\\ \b\b| \b\b/ \b\b- \b\bdone\n",
            "#\n",
            "# To activate this environment, use\n",
            "#\n",
            "#     $ conda activate 3DFuse\n",
            "#\n",
            "# To deactivate an active environment, use\n",
            "#\n",
            "#     $ conda deactivate\n",
            "\n"
          ]
        }
      ],
      "source": [
        "%cd /content\n",
        "!git clone https://github.com/KU-CVLAB/3DFuse.git\n",
        "%cd /content/3DFuse\n",
        "!conda create -n 3DFuse python=3.8"
      ]
    },
    {
      "cell_type": "code",
      "execution_count": null,
      "metadata": {
        "colab": {
          "base_uri": "https://localhost:8080/"
        },
        "id": "VWoBpL-gbBiJ",
        "outputId": "ea3fc4dc-2c83-4d6d-c881-a4bbee707761"
      },
      "outputs": [
        {
          "output_type": "stream",
          "name": "stdout",
          "text": [
            "Looking in indexes: https://pypi.org/simple, https://us-python.pkg.dev/colab-wheels/public/simple/, https://download.pytorch.org/whl/cu113\n",
            "Collecting torch==1.12.1+cu113\n",
            "  Downloading https://download.pytorch.org/whl/cu113/torch-1.12.1%2Bcu113-cp38-cp38-linux_x86_64.whl (1837.7 MB)\n",
            "\u001b[2K     \u001b[91m━━━━━━━━━━━━━━━━━━━━━━━━━━━━━━━━━━━━━━━\u001b[0m\u001b[91m╸\u001b[0m \u001b[32m1.8/1.8 GB\u001b[0m \u001b[31m93.9 MB/s\u001b[0m eta \u001b[36m0:00:01\u001b[0m"
          ]
        }
      ],
      "source": [
        "!/usr/local/envs/3DFuse/bin/python -m pip install torch==1.12.1+cu113 torchvision==0.13.1+cu113 torchaudio==0.12.1 --extra-index-url https://download.pytorch.org/whl/cu113\n",
        "!/usr/local/envs/3DFuse/bin/python -m pip install git+https://github.com/facebookresearch/pytorch3d@c8af1c45ca9f4fdd4e59b49172ca74983ff3147a#egg=pytorch3d\n",
        "!/usr/local/envs/3DFuse/bin/python -m pip install -r requirements.txt\n",
        "!/usr/local/envs/3DFuse/bin/python -m pip install ipykernel"
      ]
    },
    {
      "cell_type": "code",
      "execution_count": null,
      "metadata": {
        "id": "EB8vbj_jtdBM"
      },
      "outputs": [],
      "source": [
        "!mkdir -p weights\n",
        "%cd /content/3DFuse/weights\n",
        "!wget https://huggingface.co/jyseo/3DFuse_weights/resolve/main/models/3DFuse_sparse_depth_injector.ckpt\n",
        "!ls\n"
      ]
    },
    {
      "cell_type": "code",
      "execution_count": null,
      "metadata": {
        "id": "6ckZ52bSuGc_"
      },
      "outputs": [],
      "source": [
        "%cd /content/3DFuse\n",
        "\n",
        "!/usr/local/envs/3DFuse/bin/python gradio_app.py --share"
      ]
    }
  ],
  "metadata": {
    "accelerator": "GPU",
    "colab": {
      "provenance": []
    },
    "gpuClass": "standard",
    "kernelspec": {
      "display_name": "Python 3",
      "name": "python3"
    }
  },
  "nbformat": 4,
  "nbformat_minor": 0
}